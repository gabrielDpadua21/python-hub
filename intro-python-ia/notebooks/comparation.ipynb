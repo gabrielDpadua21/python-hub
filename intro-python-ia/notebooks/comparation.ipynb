{
 "cells": [
  {
   "cell_type": "markdown",
   "id": "cb17a155-0897-45d1-9e46-1afb1be7d2ed",
   "metadata": {},
   "source": [
    "## Operadores de comparação"
   ]
  },
  {
   "cell_type": "markdown",
   "id": "62b39a68-b919-4156-b606-da7204a86740",
   "metadata": {},
   "source": [
    "number = 10\n",
    "number2 = 20"
   ]
  },
  {
   "cell_type": "markdown",
   "id": "ff3cfa4e-4f7d-4094-8d3a-790b12eb94bd",
   "metadata": {},
   "source": [
    "### Igual"
   ]
  },
  {
   "cell_type": "code",
   "execution_count": 7,
   "id": "626bff4b-6d33-4df4-aa22-94d1a5d3e7c7",
   "metadata": {},
   "outputs": [
    {
     "name": "stdout",
     "output_type": "stream",
     "text": [
      "False\n"
     ]
    }
   ],
   "source": [
    "print(number == number2)"
   ]
  },
  {
   "cell_type": "markdown",
   "id": "257ffab8-9c10-4ae0-84f4-d75126001fa3",
   "metadata": {},
   "source": [
    "### Diferente"
   ]
  },
  {
   "cell_type": "code",
   "execution_count": 8,
   "id": "187e6a01-6362-467a-9560-1ff5f0efc3c4",
   "metadata": {},
   "outputs": [
    {
     "name": "stdout",
     "output_type": "stream",
     "text": [
      "True\n"
     ]
    }
   ],
   "source": [
    "print(number != number2)"
   ]
  },
  {
   "cell_type": "markdown",
   "id": "79b33a6f-d46c-444e-b5bc-7be4959d7f90",
   "metadata": {},
   "source": [
    "### Maior que"
   ]
  },
  {
   "cell_type": "code",
   "execution_count": 10,
   "id": "b26c39d3-047f-4abd-83ed-5e49508b8fdd",
   "metadata": {},
   "outputs": [
    {
     "name": "stdout",
     "output_type": "stream",
     "text": [
      "False\n"
     ]
    }
   ],
   "source": [
    "print(number > number2)"
   ]
  },
  {
   "cell_type": "markdown",
   "id": "66a65e11-451a-4546-be44-f4d3cbf731bc",
   "metadata": {},
   "source": [
    "### Menor que"
   ]
  },
  {
   "cell_type": "code",
   "execution_count": 11,
   "id": "eb6bf0e7-12c7-4e88-a5af-6ea558a7fa9d",
   "metadata": {},
   "outputs": [
    {
     "name": "stdout",
     "output_type": "stream",
     "text": [
      "True\n"
     ]
    }
   ],
   "source": [
    "print(number < number2)"
   ]
  },
  {
   "cell_type": "markdown",
   "id": "125f2a8b-00bf-4938-8ddc-b0233c31e284",
   "metadata": {},
   "source": [
    "### Maior ou igual"
   ]
  },
  {
   "cell_type": "code",
   "execution_count": 12,
   "id": "32520bb5-ec46-4796-85f7-30a9e8b31e07",
   "metadata": {},
   "outputs": [
    {
     "name": "stdout",
     "output_type": "stream",
     "text": [
      "False\n"
     ]
    }
   ],
   "source": [
    "print(number >= number2)"
   ]
  },
  {
   "cell_type": "markdown",
   "id": "74d29c05-b8e4-4d4c-bc9c-d0025cbe80ed",
   "metadata": {},
   "source": [
    "### Menor ou igual"
   ]
  },
  {
   "cell_type": "code",
   "execution_count": 14,
   "id": "5b7dcbd5-7523-471a-82a2-4fe172b74f77",
   "metadata": {},
   "outputs": [
    {
     "name": "stdout",
     "output_type": "stream",
     "text": [
      "True\n"
     ]
    }
   ],
   "source": [
    "print(number <= number2)"
   ]
  }
 ],
 "metadata": {
  "kernelspec": {
   "display_name": "Python 3 (ipykernel)",
   "language": "python",
   "name": "python3"
  },
  "language_info": {
   "codemirror_mode": {
    "name": "ipython",
    "version": 3
   },
   "file_extension": ".py",
   "mimetype": "text/x-python",
   "name": "python",
   "nbconvert_exporter": "python",
   "pygments_lexer": "ipython3",
   "version": "3.13.2"
  }
 },
 "nbformat": 4,
 "nbformat_minor": 5
}
