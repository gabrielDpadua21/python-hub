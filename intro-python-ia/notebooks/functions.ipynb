{
 "cells": [
  {
   "cell_type": "markdown",
   "id": "7eefefd0-c989-438a-8884-b5ebb5fff612",
   "metadata": {},
   "source": [
    "## Funções"
   ]
  },
  {
   "cell_type": "markdown",
   "id": "1bab454f-a904-4065-bac4-5056497bde6c",
   "metadata": {},
   "source": [
    "### Criando uma função basica"
   ]
  },
  {
   "cell_type": "code",
   "execution_count": 3,
   "id": "7d1f3021-62c2-4d5f-994f-8d4122ed309c",
   "metadata": {},
   "outputs": [],
   "source": [
    "def soma(value1, value2):\n",
    "    return value1 + value2"
   ]
  },
  {
   "cell_type": "code",
   "execution_count": 4,
   "id": "c10fe05c-3a47-4c28-8c80-c4fe8ef9dfab",
   "metadata": {},
   "outputs": [
    {
     "name": "stdout",
     "output_type": "stream",
     "text": [
      "30\n"
     ]
    }
   ],
   "source": [
    "print(soma(10, 20))"
   ]
  },
  {
   "cell_type": "markdown",
   "id": "e89dd8de-1143-43cf-8b08-714c3355247e",
   "metadata": {},
   "source": [
    "### Exemplos de função built in"
   ]
  },
  {
   "cell_type": "code",
   "execution_count": 6,
   "id": "7c16309d-7b8e-4013-9155-3415776df366",
   "metadata": {},
   "outputs": [
    {
     "name": "stdout",
     "output_type": "stream",
     "text": [
      "soma de dois numero\n"
     ]
    }
   ],
   "source": [
    "print(\"soma de dois numero\") # toda função deve ser chamada e pode possuir argumentos entre (...)"
   ]
  }
 ],
 "metadata": {
  "kernelspec": {
   "display_name": "Python 3 (ipykernel)",
   "language": "python",
   "name": "python3"
  },
  "language_info": {
   "codemirror_mode": {
    "name": "ipython",
    "version": 3
   },
   "file_extension": ".py",
   "mimetype": "text/x-python",
   "name": "python",
   "nbconvert_exporter": "python",
   "pygments_lexer": "ipython3",
   "version": "3.13.2"
  }
 },
 "nbformat": 4,
 "nbformat_minor": 5
}
