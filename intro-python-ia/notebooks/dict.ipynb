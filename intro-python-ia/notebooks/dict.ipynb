{
 "cells": [
  {
   "cell_type": "markdown",
   "id": "11be13dd-eeb8-423c-9508-42613d0f7d76",
   "metadata": {},
   "source": [
    "## Dicionarios"
   ]
  },
  {
   "cell_type": "code",
   "execution_count": null,
   "id": "2e8667a8-f79a-4ce6-b299-e94830740e1a",
   "metadata": {},
   "outputs": [],
   "source": [
    "cats = {\"frajola\": \"black\", \"thor\": \"brown\"}"
   ]
  },
  {
   "cell_type": "code",
   "execution_count": null,
   "id": "2e2d97fa-e4f2-42c4-b529-2efe58ee734e",
   "metadata": {},
   "outputs": [],
   "source": [
    "print(cats)"
   ]
  },
  {
   "cell_type": "code",
   "execution_count": null,
   "id": "69724f0f-698a-4f37-86c8-3921233ee634",
   "metadata": {},
   "outputs": [],
   "source": [
    "print(cats[\"frajola\"])"
   ]
  },
  {
   "cell_type": "markdown",
   "id": "89406efc-585f-4200-b8b1-ad7d778bbd4c",
   "metadata": {},
   "source": [
    "### Adcionando elementos no dicionario"
   ]
  },
  {
   "cell_type": "code",
   "execution_count": null,
   "id": "66b0a7fb-3130-4870-9baa-4268de4cd178",
   "metadata": {},
   "outputs": [],
   "source": [
    "cats[\"naix\"] = \"white\""
   ]
  },
  {
   "cell_type": "code",
   "execution_count": null,
   "id": "210de46b-94dd-4870-b390-17e00926b36f",
   "metadata": {},
   "outputs": [],
   "source": [
    "print(cats)"
   ]
  },
  {
   "cell_type": "markdown",
   "id": "f697923d-a2ef-4ae3-81ab-4eb535a6c9ad",
   "metadata": {},
   "source": [
    "### removendo items do dicionario"
   ]
  },
  {
   "cell_type": "code",
   "execution_count": null,
   "id": "685e41d6-76b7-45ea-a688-f9b3e4fe93a9",
   "metadata": {},
   "outputs": [],
   "source": [
    "del cats[\"naix\"]"
   ]
  },
  {
   "cell_type": "code",
   "execution_count": null,
   "id": "e035f2a6-63c6-4562-8ddd-8be6eafccab0",
   "metadata": {},
   "outputs": [],
   "source": [
    "print(cats)"
   ]
  }
 ],
 "metadata": {
  "kernelspec": {
   "display_name": "Python 3 (ipykernel)",
   "language": "python",
   "name": "python3"
  },
  "language_info": {
   "codemirror_mode": {
    "name": "ipython",
    "version": 3
   },
   "file_extension": ".py",
   "mimetype": "text/x-python",
   "name": "python",
   "nbconvert_exporter": "python",
   "pygments_lexer": "ipython3",
   "version": "3.13.2"
  }
 },
 "nbformat": 4,
 "nbformat_minor": 5
}
