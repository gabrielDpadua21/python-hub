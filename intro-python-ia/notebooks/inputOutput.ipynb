{
 "cells": [
  {
   "cell_type": "markdown",
   "id": "56e1adfc-7dfa-43a5-872b-7f7ed4c879b6",
   "metadata": {},
   "source": [
    "## Entrada e Saida de Dados"
   ]
  },
  {
   "cell_type": "markdown",
   "id": "5a206b05-d6fd-429d-a267-9a305a3a4a7f",
   "metadata": {},
   "source": [
    "### Entrada de dados"
   ]
  },
  {
   "cell_type": "code",
   "execution_count": 25,
   "id": "9eac930a-21cd-4ec3-9bb4-c79c1f4f480f",
   "metadata": {},
   "outputs": [
    {
     "name": "stdin",
     "output_type": "stream",
     "text": [
      "Digite seu nome gabriel\n"
     ]
    }
   ],
   "source": [
    "name = input(\"Digite seu nome\")"
   ]
  },
  {
   "cell_type": "markdown",
   "id": "b6910b92-7667-47d2-b0be-0d1ecc41718d",
   "metadata": {},
   "source": [
    "### Saida de dados e F String"
   ]
  },
  {
   "cell_type": "code",
   "execution_count": 26,
   "id": "fed6f4d0-bed0-400a-827d-e58e8166866f",
   "metadata": {},
   "outputs": [
    {
     "name": "stdout",
     "output_type": "stream",
     "text": [
      "Seu nome é gabriel\n"
     ]
    }
   ],
   "source": [
    "print(f'Seu nome é {name}')"
   ]
  },
  {
   "cell_type": "code",
   "execution_count": null,
   "id": "940a057f-7511-4733-851f-8499c9df3f0e",
   "metadata": {},
   "outputs": [],
   "source": []
  }
 ],
 "metadata": {
  "kernelspec": {
   "display_name": "Python 3 (ipykernel)",
   "language": "python",
   "name": "python3"
  },
  "language_info": {
   "codemirror_mode": {
    "name": "ipython",
    "version": 3
   },
   "file_extension": ".py",
   "mimetype": "text/x-python",
   "name": "python",
   "nbconvert_exporter": "python",
   "pygments_lexer": "ipython3",
   "version": "3.13.2"
  }
 },
 "nbformat": 4,
 "nbformat_minor": 5
}
