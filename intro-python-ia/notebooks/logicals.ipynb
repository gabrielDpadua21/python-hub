{
 "cells": [
  {
   "cell_type": "markdown",
   "id": "c9c3d64c-8ff0-4beb-8011-17541c5accae",
   "metadata": {},
   "source": [
    "## Operadores Lógicos"
   ]
  },
  {
   "cell_type": "code",
   "execution_count": 1,
   "id": "6b6ae8de-e6db-4bbc-9f6f-b6489806b7d1",
   "metadata": {},
   "outputs": [],
   "source": [
    "isTrue = True"
   ]
  },
  {
   "cell_type": "code",
   "execution_count": 2,
   "id": "e1b5e02e-47c9-43e1-8eb2-ce15d9e53ae2",
   "metadata": {},
   "outputs": [],
   "source": [
    "isFalse = False"
   ]
  },
  {
   "cell_type": "markdown",
   "id": "25a61e05-3cdb-4ade-99cf-e6d995a52d1d",
   "metadata": {},
   "source": [
    "### Operador E (And)"
   ]
  },
  {
   "cell_type": "code",
   "execution_count": 3,
   "id": "cb402200-4c19-4fc5-b568-3bbc0f8f2fa3",
   "metadata": {},
   "outputs": [
    {
     "name": "stdout",
     "output_type": "stream",
     "text": [
      "False\n"
     ]
    }
   ],
   "source": [
    "print(isTrue and isFalse)"
   ]
  },
  {
   "cell_type": "markdown",
   "id": "edeafdf3-10f1-41d1-97d6-4fbad91f55f3",
   "metadata": {},
   "source": [
    "### Operador OU (Or)"
   ]
  },
  {
   "cell_type": "code",
   "execution_count": 5,
   "id": "9397db49-09d4-48b6-8639-8acb715566d5",
   "metadata": {},
   "outputs": [
    {
     "name": "stdout",
     "output_type": "stream",
     "text": [
      "True\n"
     ]
    }
   ],
   "source": [
    "print(isTrue or isFalse)"
   ]
  },
  {
   "cell_type": "markdown",
   "id": "2960e38b-0878-4433-a60c-1b2f073d2f16",
   "metadata": {},
   "source": [
    "### Operador Não (NOT)"
   ]
  },
  {
   "cell_type": "code",
   "execution_count": 7,
   "id": "3233d491-1004-41d8-add9-fa115ffbd8c7",
   "metadata": {},
   "outputs": [
    {
     "name": "stdout",
     "output_type": "stream",
     "text": [
      "False\n"
     ]
    }
   ],
   "source": [
    "print(not isTrue)"
   ]
  },
  {
   "cell_type": "code",
   "execution_count": null,
   "id": "89e0e0e0-b4ae-4fd1-898e-99fa4c52b68b",
   "metadata": {},
   "outputs": [],
   "source": []
  }
 ],
 "metadata": {
  "kernelspec": {
   "display_name": "Python 3 (ipykernel)",
   "language": "python",
   "name": "python3"
  },
  "language_info": {
   "codemirror_mode": {
    "name": "ipython",
    "version": 3
   },
   "file_extension": ".py",
   "mimetype": "text/x-python",
   "name": "python",
   "nbconvert_exporter": "python",
   "pygments_lexer": "ipython3",
   "version": "3.13.2"
  }
 },
 "nbformat": 4,
 "nbformat_minor": 5
}
