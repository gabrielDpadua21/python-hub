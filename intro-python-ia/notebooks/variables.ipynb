{
 "cells": [
  {
   "cell_type": "markdown",
   "id": "5d502bf4-a295-47b8-a26d-7d15ced6e173",
   "metadata": {},
   "source": [
    "## Exemplos de variaveis"
   ]
  },
  {
   "cell_type": "markdown",
   "id": "90f1f723-cff9-4013-a3cd-19a786dbb32f",
   "metadata": {},
   "source": [
    "### Tipo inteiro"
   ]
  },
  {
   "cell_type": "code",
   "execution_count": 4,
   "id": "34679e30-b9e0-42c5-a29d-2af1d6e9b2f3",
   "metadata": {},
   "outputs": [
    {
     "name": "stdout",
     "output_type": "stream",
     "text": [
      "10\n"
     ]
    }
   ],
   "source": [
    "number = 10\n",
    "print(number)"
   ]
  },
  {
   "cell_type": "markdown",
   "id": "26264b70-5917-4b36-8c02-7a5b8b27459f",
   "metadata": {},
   "source": [
    "### Tipo String"
   ]
  },
  {
   "cell_type": "code",
   "execution_count": 5,
   "id": "ff24f76d-bc44-42f3-9040-ccadcc73e556",
   "metadata": {},
   "outputs": [
    {
     "name": "stdout",
     "output_type": "stream",
     "text": [
      "Frajola\n"
     ]
    }
   ],
   "source": [
    "name = \"Frajola\"\n",
    "print(name)"
   ]
  },
  {
   "cell_type": "markdown",
   "id": "4e26ff72-e3a7-4f36-a345-b611b9cf86b4",
   "metadata": {},
   "source": [
    "### Tipo de ponto flutuante"
   ]
  },
  {
   "cell_type": "code",
   "execution_count": 8,
   "id": "497a7a8a-36cf-4778-88ad-6c931a7fc4a1",
   "metadata": {},
   "outputs": [
    {
     "name": "stdout",
     "output_type": "stream",
     "text": [
      "2.99\n"
     ]
    }
   ],
   "source": [
    "price = 2.99\n",
    "print(price)"
   ]
  },
  {
   "cell_type": "markdown",
   "id": "3f9c8770-1b56-4f8c-89d8-96d77786d5bb",
   "metadata": {},
   "source": [
    "### Valores lógicos - booleanos"
   ]
  },
  {
   "cell_type": "code",
   "execution_count": 14,
   "id": "81097111-c098-409a-b90f-c9058a1f7935",
   "metadata": {},
   "outputs": [
    {
     "name": "stdout",
     "output_type": "stream",
     "text": [
      "True\n",
      "False\n"
     ]
    }
   ],
   "source": [
    "isTrue = True\n",
    "isFalse = False\n",
    "\n",
    "print(isTrue)\n",
    "print(isFalse)"
   ]
  },
  {
   "cell_type": "code",
   "execution_count": null,
   "id": "cea1af59-5f34-421a-8765-12bd1bd50009",
   "metadata": {},
   "outputs": [],
   "source": []
  }
 ],
 "metadata": {
  "kernelspec": {
   "display_name": "Python 3 (ipykernel)",
   "language": "python",
   "name": "python3"
  },
  "language_info": {
   "codemirror_mode": {
    "name": "ipython",
    "version": 3
   },
   "file_extension": ".py",
   "mimetype": "text/x-python",
   "name": "python",
   "nbconvert_exporter": "python",
   "pygments_lexer": "ipython3",
   "version": "3.13.2"
  }
 },
 "nbformat": 4,
 "nbformat_minor": 5
}
