{
 "cells": [
  {
   "cell_type": "markdown",
   "id": "ea57399c-30b2-4cd0-b424-3bf80cceb2a6",
   "metadata": {},
   "source": [
    "## Operações aritiméticas"
   ]
  },
  {
   "cell_type": "code",
   "execution_count": 6,
   "id": "283a0100-f38a-47bc-9dd1-c1a29206b222",
   "metadata": {},
   "outputs": [],
   "source": [
    "number = 10\n",
    "number2 = 20"
   ]
  },
  {
   "cell_type": "markdown",
   "id": "37babf27-6eaa-4541-aec9-c6a9446ec052",
   "metadata": {},
   "source": [
    "### Soma"
   ]
  },
  {
   "cell_type": "code",
   "execution_count": 7,
   "id": "f60ef7f0-d3b3-427a-b635-f8c7bdabf774",
   "metadata": {},
   "outputs": [],
   "source": [
    "sumNumbers = number + number2"
   ]
  },
  {
   "cell_type": "markdown",
   "id": "8023c5a8-5826-4dd5-a847-91872ff3e36b",
   "metadata": {},
   "source": [
    "### Subtração"
   ]
  },
  {
   "cell_type": "code",
   "execution_count": 8,
   "id": "5ee61d24-43b8-4026-b849-bcc0e7a598ca",
   "metadata": {},
   "outputs": [],
   "source": [
    "subNumbers = number - number2"
   ]
  },
  {
   "cell_type": "markdown",
   "id": "33317e78-cd8c-4f6a-925c-a02137ba163f",
   "metadata": {},
   "source": [
    "### Multiplicação"
   ]
  },
  {
   "cell_type": "code",
   "execution_count": 16,
   "id": "a07ba68b-179e-4dde-9481-4b91bebfea6f",
   "metadata": {},
   "outputs": [],
   "source": [
    "multNumbers = number * number2"
   ]
  },
  {
   "cell_type": "markdown",
   "id": "d4a3b72f-990e-44f6-ae11-95c612709945",
   "metadata": {},
   "source": [
    "### Divisão"
   ]
  },
  {
   "cell_type": "code",
   "execution_count": 17,
   "id": "f712cabe-3d7b-4d2e-9d6e-a1a386249ec9",
   "metadata": {},
   "outputs": [],
   "source": [
    "divNumbers = number2 / number"
   ]
  },
  {
   "cell_type": "markdown",
   "id": "0c3202ad-671e-40c4-bbbb-4b1c8588026c",
   "metadata": {},
   "source": [
    "### Potencia"
   ]
  },
  {
   "cell_type": "code",
   "execution_count": 18,
   "id": "3e673f36-dc62-44a1-baa5-2cf920aba000",
   "metadata": {},
   "outputs": [],
   "source": [
    "powerNumbers = number**number2"
   ]
  },
  {
   "cell_type": "markdown",
   "id": "16d4336e-b1f1-44d1-8c48-d48b165b8aa4",
   "metadata": {},
   "source": [
    "### Resultados"
   ]
  },
  {
   "cell_type": "code",
   "execution_count": 23,
   "id": "cc0e4693-c41e-44f8-8709-11fcf1e69a7a",
   "metadata": {},
   "outputs": [
    {
     "name": "stdout",
     "output_type": "stream",
     "text": [
      "soma = 30\n",
      "sub = -10\n",
      "mult = 200\n",
      "div = 2.0\n",
      "potencia = 100000000000000000000\n"
     ]
    }
   ],
   "source": [
    "print(f\"soma = {sumNumbers}\")\n",
    "print(f\"sub = {subNumbers}\")\n",
    "print(f\"mult = {multNumbers}\")\n",
    "print(f\"div = {divNumbers}\")\n",
    "print(f\"potencia = {powerNumbers}\")"
   ]
  },
  {
   "cell_type": "code",
   "execution_count": null,
   "id": "1836ae4e-1228-425a-8ac0-05256c085165",
   "metadata": {},
   "outputs": [],
   "source": []
  }
 ],
 "metadata": {
  "kernelspec": {
   "display_name": "Python 3 (ipykernel)",
   "language": "python",
   "name": "python3"
  },
  "language_info": {
   "codemirror_mode": {
    "name": "ipython",
    "version": 3
   },
   "file_extension": ".py",
   "mimetype": "text/x-python",
   "name": "python",
   "nbconvert_exporter": "python",
   "pygments_lexer": "ipython3",
   "version": "3.13.2"
  }
 },
 "nbformat": 4,
 "nbformat_minor": 5
}
