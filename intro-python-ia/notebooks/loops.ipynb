{
 "cells": [
  {
   "cell_type": "markdown",
   "id": "93fafc9d-a33c-4428-9f31-d9f81e76f3b4",
   "metadata": {},
   "source": [
    "## Loops"
   ]
  },
  {
   "cell_type": "code",
   "execution_count": null,
   "id": "d71050e6-a6f4-4661-bcd8-c6931580e031",
   "metadata": {},
   "outputs": [],
   "source": [
    "input_message = \"Digite x para continuar ou qualquer tecla para sair\""
   ]
  },
  {
   "cell_type": "markdown",
   "id": "2cef6464-5be8-425f-9a25-ba28c41e54c8",
   "metadata": {},
   "source": [
    "### While"
   ]
  },
  {
   "cell_type": "code",
   "execution_count": null,
   "id": "bb2d0c06-ff6b-4b99-b761-ce639ee4eb32",
   "metadata": {},
   "outputs": [],
   "source": [
    "key = input(input_message)\n",
    "\n",
    "while key != \"x\":\n",
    "    print(\"continuando...\")\n",
    "    key = input(input_message)\n",
    "    if key == \"x\":\n",
    "        print(\"bye\")"
   ]
  },
  {
   "cell_type": "code",
   "execution_count": null,
   "id": "81c28a9e-565d-4890-bc6d-0a0418b592fc",
   "metadata": {},
   "outputs": [],
   "source": [
    "while True:\n",
    "    key = input(input_message)\n",
    "    if key == \"x\":\n",
    "        print(\"bye\")\n",
    "        break\n",
    "    print(\"continuando...\")"
   ]
  },
  {
   "cell_type": "markdown",
   "id": "1e0ae81f-e105-4ca9-9d72-787cfaad6f83",
   "metadata": {},
   "source": [
    "### For básico"
   ]
  },
  {
   "cell_type": "code",
   "execution_count": null,
   "id": "681ea579-fb6b-4dc8-96f8-a45c224f2783",
   "metadata": {},
   "outputs": [],
   "source": [
    "for number in [1, 2, 3, 4, 5]:\n",
    "    print(number)"
   ]
  }
 ],
 "metadata": {
  "kernelspec": {
   "display_name": "Python 3 (ipykernel)",
   "language": "python",
   "name": "python3"
  },
  "language_info": {
   "codemirror_mode": {
    "name": "ipython",
    "version": 3
   },
   "file_extension": ".py",
   "mimetype": "text/x-python",
   "name": "python",
   "nbconvert_exporter": "python",
   "pygments_lexer": "ipython3",
   "version": "3.13.2"
  }
 },
 "nbformat": 4,
 "nbformat_minor": 5
}
