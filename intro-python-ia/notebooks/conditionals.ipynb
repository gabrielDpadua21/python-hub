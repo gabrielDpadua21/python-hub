{
 "cells": [
  {
   "cell_type": "markdown",
   "id": "6d432d56-c73a-4658-8aa6-115ffcc48f32",
   "metadata": {},
   "source": [
    "## Condicionais"
   ]
  },
  {
   "cell_type": "code",
   "execution_count": 8,
   "id": "685872de-24ab-442d-850f-40c95cd6abc2",
   "metadata": {},
   "outputs": [
    {
     "name": "stdin",
     "output_type": "stream",
     "text": [
      "Digite sua idade 22\n"
     ]
    }
   ],
   "source": [
    "age = int(input(\"Digite sua idade\"))"
   ]
  },
  {
   "cell_type": "code",
   "execution_count": 9,
   "id": "346d95fe-b588-4b50-a821-4bf99d2ccf97",
   "metadata": {},
   "outputs": [
    {
     "name": "stdout",
     "output_type": "stream",
     "text": [
      "Voce é maior de idade e jovem\n"
     ]
    }
   ],
   "source": [
    "if age < 18:\n",
    "    print(\"Voce é menor de idade\")\n",
    "elif age > 18 and age < 60:\n",
    "    print(\"Voce é maior de idade e jovem\")\n",
    "else:\n",
    "    print(\"Voce e velho\")"
   ]
  }
 ],
 "metadata": {
  "kernelspec": {
   "display_name": "Python 3 (ipykernel)",
   "language": "python",
   "name": "python3"
  },
  "language_info": {
   "codemirror_mode": {
    "name": "ipython",
    "version": 3
   },
   "file_extension": ".py",
   "mimetype": "text/x-python",
   "name": "python",
   "nbconvert_exporter": "python",
   "pygments_lexer": "ipython3",
   "version": "3.13.2"
  }
 },
 "nbformat": 4,
 "nbformat_minor": 5
}
