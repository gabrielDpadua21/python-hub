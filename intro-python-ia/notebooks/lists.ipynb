{
 "cells": [
  {
   "cell_type": "markdown",
   "id": "ee820a76-9eca-4af1-8c74-21ad4dedeb6d",
   "metadata": {},
   "source": [
    "## Listas"
   ]
  },
  {
   "cell_type": "code",
   "execution_count": null,
   "id": "44b13fc1-ceca-45ad-bf9f-3d720415884a",
   "metadata": {},
   "outputs": [],
   "source": [
    "cats = [\"frajola\", \"thor\", \"naix\", \"chico\", \"zeuz\"]"
   ]
  },
  {
   "cell_type": "code",
   "execution_count": null,
   "id": "4c36f4be-2461-4bbd-8bed-6dfb0610e178",
   "metadata": {},
   "outputs": [],
   "source": [
    "print(cats)"
   ]
  },
  {
   "cell_type": "markdown",
   "id": "c0057204-c8c6-42cb-bd37-466cbf459ff6",
   "metadata": {},
   "source": [
    "### Adcionando elementos a lista "
   ]
  },
  {
   "cell_type": "code",
   "execution_count": null,
   "id": "8c3a222a-673d-4f40-a080-336cfa4082a1",
   "metadata": {},
   "outputs": [],
   "source": [
    "cats.append(\"lucy\")"
   ]
  },
  {
   "cell_type": "code",
   "execution_count": null,
   "id": "32ba1d08-19d4-4dd0-b63c-f245d0ef3d59",
   "metadata": {},
   "outputs": [],
   "source": [
    "print(cats)"
   ]
  },
  {
   "cell_type": "markdown",
   "id": "52e6d50b-09ed-4250-895e-7285971092f5",
   "metadata": {},
   "source": [
    "### Removendo elementos da lista"
   ]
  },
  {
   "cell_type": "code",
   "execution_count": null,
   "id": "a62eba8e-bfa3-4cf9-b9a6-3d2443c9b113",
   "metadata": {},
   "outputs": [],
   "source": [
    "cats.pop(-1) # removendo ultimo elemento da lista"
   ]
  },
  {
   "cell_type": "code",
   "execution_count": null,
   "id": "3cb05f67-b796-48d2-8ed7-500033df179e",
   "metadata": {},
   "outputs": [],
   "source": [
    "print(cats)"
   ]
  }
 ],
 "metadata": {
  "kernelspec": {
   "display_name": "Python 3 (ipykernel)",
   "language": "python",
   "name": "python3"
  },
  "language_info": {
   "codemirror_mode": {
    "name": "ipython",
    "version": 3
   },
   "file_extension": ".py",
   "mimetype": "text/x-python",
   "name": "python",
   "nbconvert_exporter": "python",
   "pygments_lexer": "ipython3",
   "version": "3.13.2"
  }
 },
 "nbformat": 4,
 "nbformat_minor": 5
}
